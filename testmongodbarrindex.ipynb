{
 "cells": [
  {
   "cell_type": "markdown",
   "metadata": {},
   "source": [
    "## Test MongoDB indexing of arrays"
   ]
  },
  {
   "cell_type": "code",
   "execution_count": 34,
   "metadata": {
    "collapsed": true
   },
   "outputs": [],
   "source": [
    "import pymongo, json"
   ]
  },
  {
   "cell_type": "code",
   "execution_count": 2,
   "metadata": {
    "collapsed": true
   },
   "outputs": [],
   "source": [
    "client = pymongo.MongoClient()"
   ]
  },
  {
   "cell_type": "code",
   "execution_count": 3,
   "metadata": {
    "collapsed": true
   },
   "outputs": [],
   "source": [
    "db = client.test"
   ]
  },
  {
   "cell_type": "code",
   "execution_count": 4,
   "metadata": {
    "collapsed": true
   },
   "outputs": [],
   "source": [
    "co = db.index_test"
   ]
  },
  {
   "cell_type": "code",
   "execution_count": 5,
   "metadata": {
    "collapsed": true
   },
   "outputs": [],
   "source": [
    "array_field = []\n",
    "for i in range(100):\n",
    "    array_field.append({\"id\": \"s{:d}\".format(i), \"value\": i*1.0})"
   ]
  },
  {
   "cell_type": "code",
   "execution_count": 7,
   "metadata": {
    "collapsed": false
   },
   "outputs": [],
   "source": [
    "for i in range(1000):\n",
    "    doc = {\"number\":i, \"sbxd\":array_field}\n",
    "    co.insert(doc)"
   ]
  },
  {
   "cell_type": "code",
   "execution_count": 8,
   "metadata": {
    "collapsed": false
   },
   "outputs": [
    {
     "data": {
      "text/plain": [
       "'number_1'"
      ]
     },
     "execution_count": 8,
     "metadata": {},
     "output_type": "execute_result"
    }
   ],
   "source": [
    "co.create_index(\"number\")"
   ]
  },
  {
   "cell_type": "code",
   "execution_count": 9,
   "metadata": {
    "collapsed": false
   },
   "outputs": [
    {
     "data": {
      "text/plain": [
       "'sbxd_1'"
      ]
     },
     "execution_count": 9,
     "metadata": {},
     "output_type": "execute_result"
    }
   ],
   "source": [
    "co.create_index(\"sbxd\")"
   ]
  },
  {
   "cell_type": "code",
   "execution_count": 10,
   "metadata": {
    "collapsed": false
   },
   "outputs": [
    {
     "data": {
      "text/plain": [
       "{'_id_': {'key': [('_id', 1)], 'v': 1},\n",
       " 'number_1': {'key': [('number', 1)], 'v': 1},\n",
       " 'sbxd_1': {'key': [('sbxd', 1)], 'v': 1}}"
      ]
     },
     "execution_count": 10,
     "metadata": {},
     "output_type": "execute_result"
    }
   ],
   "source": [
    "co.index_information()"
   ]
  },
  {
   "cell_type": "code",
   "execution_count": 28,
   "metadata": {
    "collapsed": false
   },
   "outputs": [
    {
     "data": {
      "text/plain": [
       "<pymongo.cursor.Cursor at 0x10577f490>"
      ]
     },
     "execution_count": 28,
     "metadata": {},
     "output_type": "execute_result"
    }
   ],
   "source": [
    "cursor = co.find({\"number\": {\"$gt\": 900}, \"sbxd.id\": \"s3\", \"sbxd.value\": {\"$gt\": 10}})\n",
    "cursor.hint([(\"number\", 1)])"
   ]
  },
  {
   "cell_type": "code",
   "execution_count": 37,
   "metadata": {
    "collapsed": false
   },
   "outputs": [
    {
     "name": "stdout",
     "output_type": "stream",
     "text": [
      "{\n",
      "  \"indexBounds\": {\n",
      "    \"number\": [\n",
      "      [\n",
      "        900, \n",
      "        Infinity\n",
      "      ]\n",
      "    ]\n",
      "  }, \n",
      "  \"n\": 99, \n",
      "  \"nscannedAllPlans\": 99, \n",
      "  \"nYields\": 0, \n",
      "  \"stats\": {\n",
      "    \"invalidates\": 0, \n",
      "    \"children\": [\n",
      "      {\n",
      "        \"type\": \"FETCH\", \n",
      "        \"matchTested\": 99, \n",
      "        \"invalidates\": 0, \n",
      "        \"forcedFetches\": 0, \n",
      "        \"works\": 100, \n",
      "        \"advanced\": 99, \n",
      "        \"children\": [\n",
      "          {\n",
      "            \"type\": \"IXSCAN\", \n",
      "            \"keyPattern\": \"{ number: 1 }\", \n",
      "            \"yieldMovedCursor\": 0, \n",
      "            \"matchTested\": 0, \n",
      "            \"invalidates\": 0, \n",
      "            \"seenInvalidated\": 0, \n",
      "            \"needFetch\": 0, \n",
      "            \"works\": 99, \n",
      "            \"boundsVerbose\": \"field #0['number']: (900, inf.0]\", \n",
      "            \"advanced\": 99, \n",
      "            \"children\": [], \n",
      "            \"needTime\": 0, \n",
      "            \"isEOF\": 1, \n",
      "            \"unyields\": 0, \n",
      "            \"isMultiKey\": 0, \n",
      "            \"yields\": 0, \n",
      "            \"dupsTested\": 0, \n",
      "            \"keysExamined\": 99, \n",
      "            \"dupsDropped\": 0\n",
      "          }\n",
      "        ], \n",
      "        \"alreadyHasObj\": 0, \n",
      "        \"needTime\": 0, \n",
      "        \"isEOF\": 1, \n",
      "        \"unyields\": 0, \n",
      "        \"needFetch\": 0, \n",
      "        \"yields\": 0\n",
      "      }\n",
      "    ], \n",
      "    \"yields\": 0, \n",
      "    \"needTime\": 0, \n",
      "    \"isEOF\": 1, \n",
      "    \"advanced\": 99, \n",
      "    \"unyields\": 0, \n",
      "    \"needFetch\": 0, \n",
      "    \"type\": \"KEEP_MUTATIONS\", \n",
      "    \"works\": 100\n",
      "  }, \n",
      "  \"cursor\": \"BtreeCursor number_1\", \n",
      "  \"nChunkSkips\": 0, \n",
      "  \"filterSet\": false, \n",
      "  \"server\": \"uni.local:27017\", \n",
      "  \"nscannedObjectsAllPlans\": 99, \n",
      "  \"nscannedObjects\": 99, \n",
      "  \"scanAndOrder\": false, \n",
      "  \"indexOnly\": false, \n",
      "  \"allPlans\": [\n",
      "    {\n",
      "      \"indexBounds\": {\n",
      "        \"number\": [\n",
      "          [\n",
      "            900, \n",
      "            Infinity\n",
      "          ]\n",
      "        ]\n",
      "      }, \n",
      "      \"n\": 99, \n",
      "      \"nscannedObjects\": 99, \n",
      "      \"scanAndOrder\": false, \n",
      "      \"indexOnly\": false, \n",
      "      \"isMultiKey\": false, \n",
      "      \"cursor\": \"BtreeCursor number_1\", \n",
      "      \"nscanned\": 99, \n",
      "      \"nChunkSkips\": 0\n",
      "    }\n",
      "  ], \n",
      "  \"isMultiKey\": false, \n",
      "  \"millis\": 1, \n",
      "  \"nscanned\": 99\n",
      "}\n"
     ]
    }
   ],
   "source": [
    "print(json.dumps(cursor.explain(), indent=2))"
   ]
  },
  {
   "cell_type": "code",
   "execution_count": null,
   "metadata": {
    "collapsed": true
   },
   "outputs": [],
   "source": []
  }
 ],
 "metadata": {
  "kernelspec": {
   "display_name": "Python 3",
   "language": "python",
   "name": "python3"
  },
  "language_info": {
   "codemirror_mode": {
    "name": "ipython",
    "version": 3
   },
   "file_extension": ".py",
   "mimetype": "text/x-python",
   "name": "python",
   "nbconvert_exporter": "python",
   "pygments_lexer": "ipython3",
   "version": "3.3.2"
  }
 },
 "nbformat": 4,
 "nbformat_minor": 0
}
